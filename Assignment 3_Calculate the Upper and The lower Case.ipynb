{
 "cells": [
  {
   "cell_type": "code",
   "execution_count": 1,
   "id": "cec3170c",
   "metadata": {},
   "outputs": [],
   "source": [
    "# Write a Python function that accepts a string and calculate the number of upper case letters and lower case letters."
   ]
  },
  {
   "cell_type": "code",
   "execution_count": 2,
   "id": "48a122a4",
   "metadata": {},
   "outputs": [
    {
     "name": "stdout",
     "output_type": "stream",
     "text": [
      "No. of Upper case characters : 3 \n",
      "No. of lower case characters : 12 \n"
     ]
    }
   ],
   "source": [
    "def string_test(s):\n",
    "    upper_case = 0\n",
    "    lower_case = 0\n",
    "    for a in s:\n",
    "        if a.isupper():\n",
    "               upper_case +=1\n",
    "        elif a.islower():\n",
    "               lower_case +=1\n",
    "        else:\n",
    "                pass\n",
    "    print('No. of Upper case characters : {} '.format(upper_case))\n",
    "    print('No. of lower case characters : {} '.format(lower_case))\n",
    "        \n",
    "string_test('The quick Brow Fox')"
   ]
  },
  {
   "cell_type": "code",
   "execution_count": null,
   "id": "87e1f4f3",
   "metadata": {},
   "outputs": [],
   "source": []
  }
 ],
 "metadata": {
  "kernelspec": {
   "display_name": "Python 3 (ipykernel)",
   "language": "python",
   "name": "python3"
  },
  "language_info": {
   "codemirror_mode": {
    "name": "ipython",
    "version": 3
   },
   "file_extension": ".py",
   "mimetype": "text/x-python",
   "name": "python",
   "nbconvert_exporter": "python",
   "pygments_lexer": "ipython3",
   "version": "3.9.7"
  }
 },
 "nbformat": 4,
 "nbformat_minor": 5
}
